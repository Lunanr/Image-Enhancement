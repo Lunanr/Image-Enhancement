{
  "cells": [
    {
      "cell_type": "code",
      "execution_count": null,
      "metadata": {
        "id": "Zwq5bT7jbJOE"
      },
      "outputs": [],
      "source": [
        "import cv2\n",
        "import numpy as np\n",
        "import os\n",
        "import matplotlib.pyplot as plt\n",
        "\n",
        "\n",
        "def gammaCorrection(gamma):\n",
        "    linear = cv2.imread(os.path.join('/content/1.jpeg'), 0)\n",
        "    height = len(linear)\n",
        "    width = len(linear[0])\n",
        "    gamma_image = np.zeros((height, width))\n",
        "    gamma_corrected_image = np.zeros((height, width))\n",
        "\n",
        "    inv_gamma = 1 / gamma\n",
        "    for i in range(height):\n",
        "        for j in range(width):\n",
        "            gamma_image[i][j] = 255 * ((linear[i][j] / 255) ** gamma)\n",
        "            gamma_corrected_image[i][j] = 255 * ((linear[i][j] / 255) ** inv_gamma)\n",
        "    cv2.imwrite('gamma_correction.jpeg', gamma_corrected_image) #Perubahan gambar tergantung nilai gama\n",
        "    # apabila nilainya > 1 maka gambarnya terlihat cerah\n",
        "    # apabila nilainya < 1 maka gambarnya terlihat gelap\n",
        "    cv2.imwrite('gamma_image.png', gamma_image) # Perubahan Gambar\n",
        "\n",
        "def gammaImage():\n",
        "    height = 900\n",
        "    width = 1600\n",
        "    checkerboard = np.ones((height, width)) * 255\n",
        "    k = 0\n",
        "    for i in range(0, height, 2):\n",
        "        for j in range(0, width, 4):\n",
        "            checkerboard[i][j + k] = 0\n",
        "            checkerboard[i + 1][j + k] = 0\n",
        "            checkerboard[i][j + k + 1] = 0\n",
        "            checkerboard[i + 1][j + k + 1] = 0\n",
        "        if k == 0:\n",
        "            k = 2\n",
        "        else:\n",
        "            k = 0\n",
        "\n",
        "    cv2.imwrite('checkerboard.png', checkerboard)\n",
        "    Ic = (255 + 0) / 2\n",
        "\n",
        "    g = 138\n",
        "    gamma = 2.0\n",
        "    uniform_gray = np.ones((height, width)) * g\n",
        "    cv2.imwrite('uniform_gray.png', uniform_gray)\n",
        "\n",
        "    interlaced = np.array(checkerboard)\n",
        "    for i in range(0, height, 32):\n",
        "        for j in range(0, width):\n",
        "            for k in range(16):\n",
        "                if i + k >= height:\n",
        "                    break\n",
        "                interlaced[i + k][j] = g\n",
        "    Ig = 255 * ((g / 255) ** gamma)\n",
        "    cv2.imwrite('interlaced.png', interlaced)\n",
        "    return gamma\n",
        "    #g = 138\n",
        "    #gamma = 1.13\n",
        "    #Ic = Ig = 127.5\n",
        "\n",
        "if __name__ == '__main__':\n",
        "    gammaCorrection(gammaImage())"
      ]
    },
    {
      "cell_type": "code",
      "execution_count": null,
      "metadata": {
        "id": "CfenPNPqm0go"
      },
      "outputs": [],
      "source": [
        "img_gamma = cv2.imread('/content/gamma_correction.jpeg', 1)"
      ]
    },
    {
      "cell_type": "code",
      "source": [
        "img_new = cv2.imread('/content/1.jpeg', 1)"
      ],
      "metadata": {
        "id": "JJdnMbi_FmQe"
      },
      "execution_count": null,
      "outputs": []
    },
    {
      "cell_type": "code",
      "source": [
        "plt.hist(img_new.flat, bins=100, range=(0, 255))\n",
        "plt.savefig('Original image.jpeg')\n",
        "plt.xlabel('Gray Level')\n",
        "plt.ylabel('Number of Elements')\n",
        "plt.title('Histogram Original Image')\n",
        "plt.savefig('Histogram gamma correction.JPEG');"
      ],
      "metadata": {
        "id": "IYG2Rmu757hY",
        "colab": {
          "base_uri": "https://localhost:8080/",
          "height": 295
        },
        "outputId": "c281837a-ac6c-4815-92c2-de8946629bfd"
      },
      "execution_count": null,
      "outputs": [
        {
          "output_type": "display_data",
          "data": {
            "text/plain": [
              "<Figure size 432x288 with 1 Axes>"
            ],
            "image/png": "[encoded data removed]"
          },
          "metadata": {
            "needs_background": "light"
          }
        }
      ]
    },
    {
      "cell_type": "code",
      "execution_count": null,
      "metadata": {
        "id": "QzwAbDUUm9Cp",
        "colab": {
          "base_uri": "https://localhost:8080/",
          "height": 295
        },
        "outputId": "7f5b7ee6-81d0-4173-997d-c889a18f5e41"
      },
      "outputs": [
        {
          "output_type": "display_data",
          "data": {
            "text/plain": [
              "<Figure size 432x288 with 1 Axes>"
            ],
            "image/png": "[encoded data removed]"
          },
          "metadata": {
            "needs_background": "light"
          }
        }
      ],
      "source": [
        "plt.hist(img_gamma.flat, bins=100, range=(0, 255))\n",
        "plt.xlabel('Gray Level')\n",
        "plt.ylabel('Number of Elements')\n",
        "plt.title('Histogram Gamma correction (gamma = 2.0)')\n",
        "plt.savefig('Histogram gamma correction (gamma = 2.0).JPEG');"
      ]
    },
    {
      "cell_type": "code",
      "execution_count": null,
      "metadata": {
        "id": "8AZaGVvPcIOr"
      },
      "outputs": [],
      "source": [
        "from math import log10, sqrt\n",
        "\n",
        "def PSNR(original, compressed):\n",
        "\tmse = np.mean((original - compressed) ** 2)\n",
        "\tif(mse == 0): # MSE is zero means no noise is present in the signal .\n",
        "\t\t\t\t# Therefore PSNR have no importance.\n",
        "\t\treturn 100\n",
        "\tmax_pixel = 255.0\n",
        "\tpsnr = 20 * log10(max_pixel / sqrt(mse))\n",
        "\treturn psnr\n",
        "\n",
        "def main():\n",
        "\toriginal = cv2.imread(\"/content/BACTERIA-104960-0001 (20).jpeg\")\n",
        "\tcompressed = cv2.imread(\"/content/gamma_correction.jpeg\", 1)\n",
        "\tvalue = PSNR(original, compressed)\n",
        "\tprint(f\"PSNR value is {value} dB\")\n",
        "\t\n",
        "if __name__ == \"__main__\":\n",
        "\tmain()\n",
        "\n",
        "\n",
        "original = cv2.imread(\"/content/BACTERIA-104960-0001 (20).jpeg\")\n",
        "compressed = cv2.imread(\"/content/gamma_correction.jpeg\", 1)\n",
        "mse = np.mean((original - compressed) ** 2)\n",
        "print(f\"MSE value is {mse} dB\")"
      ]
    },
    {
      "cell_type": "code",
      "execution_count": null,
      "metadata": {
        "id": "kvlL9CKmGZ05"
      },
      "outputs": [],
      "source": [
        "from skimage.metrics import structural_similarity\n",
        "\n",
        "#Works well with images of different dimensions\n",
        "def orb_sim(img1, img2):\n",
        "  # SIFT is no longer available in cv2 so using ORB\n",
        "  orb = cv2.ORB_create()\n",
        "\n",
        "  # detect keypoints and descriptors\n",
        "  kp_a, desc_a = orb.detectAndCompute(img1, None)\n",
        "  kp_b, desc_b = orb.detectAndCompute(img2, None)\n",
        "\n",
        "  # define the bruteforce matcher object\n",
        "  bf = cv2.BFMatcher(cv2.NORM_HAMMING, crossCheck=True)\n",
        "    \n",
        "  #perform matches. \n",
        "  matches = bf.match(desc_a, desc_b)\n",
        "  #Look for similar regions with distance < 50. Goes from 0 to 100 so pick a number between.\n",
        "  similar_regions = [i for i in matches if i.distance < 50]  \n",
        "  if len(matches) == 0:\n",
        "    return 0\n",
        "  return len(similar_regions) / len(matches)\n",
        "\n",
        "\n",
        "#Needs images to be same dimensions\n",
        "def structural_sim(img1, img2):\n",
        "\n",
        "  sim, diff = structural_similarity(img1, img2, full=True)\n",
        "  return sim\n",
        "\n",
        "# img00 = cv2.imread('images/monkey_distorted.jpg', 0)\n",
        "# img01 = cv2.imread('images/monkey_rotated.jpg', 0)\n",
        "\n",
        "img1 = cv2.imread('/content/gamma_correction.jpeg', 0)  # 714 x 901 pixels\n",
        "img2 = cv2.imread('/content/BACTERIA-104960-0001 (20).jpeg', 0)  # 714 x 901 pixels\n",
        "# img3 = cv2.imread('images/BSE_smoothed.jpg', 0)  # 203 x 256 pixels\n",
        "# img4 = cv2.imread('images/different_img.jpg', 0)  # 203 x 256 pixels\n",
        "\n",
        "# orb_similarity = orb_sim(img1, img2)  #1.0 means identical. Lower = not similar\n",
        "\n",
        "# print(\"Similarity using ORB is: \", orb_similarity)\n",
        "#Resize for SSIM\n",
        "# from skimage.transform import resize\n",
        "# img5 = resize(img3, (img1.shape[0], img1.shape[1]), anti_aliasing=True, preserve_range=True)\n",
        "\n",
        "ssim = structural_sim(img1, img2) #1.0 means identical. Lower = not similar\n",
        "print(\"Similarity using SSIM is: \", ssim)"
      ]
    },
    {
      "cell_type": "code",
      "source": [
        "pip install sewar"
      ],
      "metadata": {
        "id": "1zxOi1A_8PGc"
      },
      "execution_count": null,
      "outputs": []
    },
    {
      "cell_type": "code",
      "source": [
        "from sewar.full_ref import rmse"
      ],
      "metadata": {
        "id": "emMS_I0W1JEz"
      },
      "execution_count": null,
      "outputs": []
    },
    {
      "cell_type": "code",
      "source": [
        "print(\"RMSE\", rmse(img2,img1))"
      ],
      "metadata": {
        "id": "Tshkx9cw9KGA"
      },
      "execution_count": null,
      "outputs": []
    },
    {
      "cell_type": "code",
      "source": [],
      "metadata": {
        "id": "-q94NMjyDUbq"
      },
      "execution_count": null,
      "outputs": []
    }
  ],
  "metadata": {
    "colab": {
      "collapsed_sections": [],
      "provenance": []
    },
    "kernelspec": {
      "display_name": "Python 3",
      "name": "python3"
    },
    "language_info": {
      "name": "python"
    }
  },
  "nbformat": 4,
  "nbformat_minor": 0
}